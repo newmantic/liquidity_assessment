{
  "nbformat": 4,
  "nbformat_minor": 0,
  "metadata": {
    "colab": {
      "provenance": [],
      "authorship_tag": "ABX9TyN+1Gdkk7Khb3/wSarX9FXr",
      "include_colab_link": true
    },
    "kernelspec": {
      "name": "python3",
      "display_name": "Python 3"
    },
    "language_info": {
      "name": "python"
    }
  },
  "cells": [
    {
      "cell_type": "markdown",
      "metadata": {
        "id": "view-in-github",
        "colab_type": "text"
      },
      "source": [
        "<a href=\"https://colab.research.google.com/github/newmantic/liquidity_assessment/blob/main/liquidity_assessment.ipynb\" target=\"_parent\"><img src=\"https://colab.research.google.com/assets/colab-badge.svg\" alt=\"Open In Colab\"/></a>"
      ]
    },
    {
      "cell_type": "code",
      "execution_count": 1,
      "metadata": {
        "colab": {
          "base_uri": "https://localhost:8080/"
        },
        "id": "u_7T4hsdsQfi",
        "outputId": "dee97ba4-a738-4141-ccdd-9682ec58c36c"
      },
      "outputs": [
        {
          "output_type": "stream",
          "name": "stdout",
          "text": [
            "Initial Bond Price: 1081.11\n",
            "Liquidity Adjusted Bond Price: 1064.25\n"
          ]
        }
      ],
      "source": [
        "import numpy as np\n",
        "\n",
        "# Example bond characteristics\n",
        "face_value = 1000  # Face value of the bond\n",
        "coupon_rate = 0.05  # Annual coupon rate (5%)\n",
        "years_to_maturity = 10  # Years to maturity\n",
        "market_yield = 0.04  # Market yield (4%)\n",
        "liquidity_premium = 0.002  # Liquidity premium (0.2%)\n",
        "\n",
        "def bond_price(face_value, coupon_rate, market_yield, years_to_maturity):\n",
        "    \"\"\"Calculates the price of a bond.\"\"\"\n",
        "    coupon = face_value * coupon_rate\n",
        "    present_value_coupons = np.sum([coupon / (1 + market_yield)**t for t in range(1, years_to_maturity + 1)])\n",
        "    present_value_face_value = face_value / (1 + market_yield)**years_to_maturity\n",
        "    return present_value_coupons + present_value_face_value\n",
        "\n",
        "def liquidity_adjusted_bond_price(face_value, coupon_rate, market_yield, years_to_maturity, liquidity_premium):\n",
        "    \"\"\"Calculates the bond price adjusted for liquidity premium.\"\"\"\n",
        "    adjusted_yield = market_yield + liquidity_premium\n",
        "    return bond_price(face_value, coupon_rate, adjusted_yield, years_to_maturity)\n",
        "\n",
        "# Testable Example\n",
        "initial_bond_price = bond_price(face_value, coupon_rate, market_yield, years_to_maturity)\n",
        "liquidity_adjusted_price = liquidity_adjusted_bond_price(face_value, coupon_rate, market_yield, years_to_maturity, liquidity_premium)\n",
        "\n",
        "print(f\"Initial Bond Price: {initial_bond_price:.2f}\")\n",
        "print(f\"Liquidity Adjusted Bond Price: {liquidity_adjusted_price:.2f}\")\n"
      ]
    }
  ]
}